{
 "cells": [
  {
   "cell_type": "code",
   "execution_count": 2,
   "metadata": {},
   "outputs": [
    {
     "data": {
      "text/plain": [
       "tuple"
      ]
     },
     "execution_count": 2,
     "metadata": {},
     "output_type": "execute_result"
    }
   ],
   "source": [
    "zoo_tup = ('dog', 'cat', 'wolf')\n",
    "zoo_list = ['dog', 'cat', 'wolf']\n",
    "    \n",
    "zoo_dict = {\n",
    "    'dog': 1,\n",
    "    'cat': 2,\n",
    "    'wolf': 3\n",
    "}\n",
    "type(zoo_tup)\n"
   ]
  },
  {
   "cell_type": "markdown",
   "metadata": {},
   "source": [
    "- list 和 dict 是可变的，tuple 是不可变的"
   ]
  },
  {
   "cell_type": "code",
   "execution_count": 3,
   "metadata": {},
   "outputs": [
    {
     "ename": "TypeError",
     "evalue": "'tuple' object does not support item assignment",
     "output_type": "error",
     "traceback": [
      "\u001b[1;31m---------------------------------------------------------------------------\u001b[0m",
      "\u001b[1;31mTypeError\u001b[0m                                 Traceback (most recent call last)",
      "\u001b[1;32m<ipython-input-3-bb522b1479b7>\u001b[0m in \u001b[0;36m<module>\u001b[1;34m\u001b[0m\n\u001b[1;32m----> 1\u001b[1;33m \u001b[0mzoo_tup\u001b[0m\u001b[1;33m[\u001b[0m\u001b[1;36m0\u001b[0m\u001b[1;33m]\u001b[0m \u001b[1;33m=\u001b[0m \u001b[1;34m'lion'\u001b[0m\u001b[1;33m\u001b[0m\u001b[1;33m\u001b[0m\u001b[0m\n\u001b[0m",
      "\u001b[1;31mTypeError\u001b[0m: 'tuple' object does not support item assignment"
     ]
    }
   ],
   "source": [
    "zoo_tup[0] = 'lion'"
   ]
  },
  {
   "cell_type": "markdown",
   "metadata": {},
   "source": [
    "- 三种数据结构是异构(元素类型可以不一样)的，可嵌套的"
   ]
  },
  {
   "cell_type": "code",
   "execution_count": 5,
   "metadata": {},
   "outputs": [
    {
     "name": "stdout",
     "output_type": "stream",
     "text": [
      "(('dog', 'cat', 'wolf'), ['dog', 'cat', 'wolf'])\n",
      "<class 'tuple'>\n",
      "<class 'list'>\n"
     ]
    }
   ],
   "source": [
    "new_zoo_tup = (zoo_tup, zoo_list)\n",
    "print(new_zoo_tup)\n",
    "print(type(new_zoo_tup[0]))\n",
    "print(type(new_zoo_tup[1]))"
   ]
  },
  {
   "cell_type": "markdown",
   "metadata": {},
   "source": [
    "numpy 是高性能科学计算和数据分析的基础包\n",
    "\n",
    "- ndarray，一个具有矢量算术运算和复杂广播能力的快速且节省空间的多维数组\n",
    "- 用于对整数数组快速运算的标准数学函数\n",
    "- 用于读写磁盘数据的工具以及操作内存映射文件的工具\n",
    "- 线性代数，随机数生成以及傅里叶变换\n",
    "- 用于集成 C,C++,Fortran 等语言编写的代码\n",
    "\n",
    "### ndarray\n",
    "一种多维数组，其是一个快速且灵活的大数据容器，且是一个同构数据容器，即其中所有元素必须是相同类型，对该数组可以直接运算"
   ]
  },
  {
   "cell_type": "markdown",
   "metadata": {},
   "source": [
    "### 创建 ndarray"
   ]
  },
  {
   "cell_type": "code",
   "execution_count": 4,
   "metadata": {},
   "outputs": [
    {
     "data": {
      "text/plain": [
       "array([6, 5, 7, 1, 3])"
      ]
     },
     "execution_count": 4,
     "metadata": {},
     "output_type": "execute_result"
    }
   ],
   "source": [
    "import numpy as np\n",
    "data1 = [6, 5, 7, 1, 3]\n",
    "arr1 = np.array(data1)\n",
    "arr1"
   ]
  },
  {
   "cell_type": "code",
   "execution_count": 5,
   "metadata": {},
   "outputs": [
    {
     "data": {
      "text/plain": [
       "array([[1, 2, 3],\n",
       "       [3, 2, 1]])"
      ]
     },
     "execution_count": 5,
     "metadata": {},
     "output_type": "execute_result"
    }
   ],
   "source": [
    "data2 = [[1,2,3], [3,2,1]]\n",
    "arr2 = np.array(data2)\n",
    "arr2"
   ]
  },
  {
   "cell_type": "markdown",
   "metadata": {},
   "source": [
    "array 创建时是对原始对象的一分 copy 创建的，而 asarray 不是，如果修改 asarray 里的值，也会修改原数据"
   ]
  },
  {
   "cell_type": "code",
   "execution_count": 12,
   "metadata": {},
   "outputs": [
    {
     "name": "stdout",
     "output_type": "stream",
     "text": [
      "[[100.   0.   0.]\n",
      " [  0.   0.   0.]]\n",
      "[[100.   0.   0.]\n",
      " [  0.   0.   0.]]\n"
     ]
    }
   ],
   "source": [
    "arr0 = np.zeros((2, 3))\n",
    "arr2 = np.asarray(arr0)\n",
    "arr2[0][0] = 100\n",
    "print(arr0)\n",
    "print(arr2)\n"
   ]
  },
  {
   "cell_type": "markdown",
   "metadata": {},
   "source": [
    "ones() 创建全是 1 的数组"
   ]
  },
  {
   "cell_type": "code",
   "execution_count": 13,
   "metadata": {},
   "outputs": [
    {
     "data": {
      "text/plain": [
       "array([[0., 0., 0., 0.],\n",
       "       [0., 0., 0., 0.],\n",
       "       [0., 0., 0., 0.]])"
      ]
     },
     "execution_count": 13,
     "metadata": {},
     "output_type": "execute_result"
    }
   ],
   "source": [
    "# empty函数用来创建一个没有任何值的数组，根据上一次创建的内存的值\n",
    "np.empty((3, 4))"
   ]
  },
  {
   "cell_type": "code",
   "execution_count": 14,
   "metadata": {},
   "outputs": [
    {
     "data": {
      "text/plain": [
       "array([[1., 0., 0., 0.],\n",
       "       [0., 1., 0., 0.],\n",
       "       [0., 0., 1., 0.],\n",
       "       [0., 0., 0., 1.]])"
      ]
     },
     "execution_count": 14,
     "metadata": {},
     "output_type": "execute_result"
    }
   ],
   "source": [
    "np.eye(4) # 对角矩阵"
   ]
  },
  {
   "cell_type": "markdown",
   "metadata": {},
   "source": [
    "### 数组切片"
   ]
  },
  {
   "cell_type": "markdown",
   "metadata": {},
   "source": [
    "数组索引有 `[][]`的方式访问，也有 `[,]` 的方式访问"
   ]
  },
  {
   "cell_type": "code",
   "execution_count": 10,
   "metadata": {},
   "outputs": [
    {
     "data": {
      "text/plain": [
       "array([[2, 1, 4],\n",
       "       [4, 7, 5]])"
      ]
     },
     "execution_count": 10,
     "metadata": {},
     "output_type": "execute_result"
    }
   ],
   "source": [
    "arr3 = np.array([[2,1,4],[4,7,5]])\n",
    "arr3"
   ]
  },
  {
   "cell_type": "code",
   "execution_count": 11,
   "metadata": {},
   "outputs": [
    {
     "data": {
      "text/plain": [
       "array([[2, 1, 4],\n",
       "       [4, 7, 5]])"
      ]
     },
     "execution_count": 11,
     "metadata": {},
     "output_type": "execute_result"
    }
   ],
   "source": [
    "split1 = arr3[:2][:2]\n",
    "split1"
   ]
  },
  {
   "cell_type": "code",
   "execution_count": 13,
   "metadata": {},
   "outputs": [
    {
     "data": {
      "text/plain": [
       "array([[99,  1,  4],\n",
       "       [ 4,  7,  5]])"
      ]
     },
     "execution_count": 13,
     "metadata": {},
     "output_type": "execute_result"
    }
   ],
   "source": [
    "split1[0, 0] = 99\n",
    "split1"
   ]
  },
  {
   "cell_type": "markdown",
   "metadata": {},
   "source": [
    "切片只是原始数组的一个视图，对其进行赋值会直接影响到原始数据的值"
   ]
  },
  {
   "cell_type": "code",
   "execution_count": 14,
   "metadata": {},
   "outputs": [
    {
     "data": {
      "text/plain": [
       "array([[99,  1,  4],\n",
       "       [ 4,  7,  5]])"
      ]
     },
     "execution_count": 14,
     "metadata": {},
     "output_type": "execute_result"
    }
   ],
   "source": [
    "arr3"
   ]
  },
  {
   "cell_type": "markdown",
   "metadata": {},
   "source": [
    "#### 布尔型索引"
   ]
  },
  {
   "cell_type": "code",
   "execution_count": 15,
   "metadata": {},
   "outputs": [
    {
     "data": {
      "text/plain": [
       "array(['a', 'b', 'c', 'd', 'a', 'b', 'c', 'd'], dtype='<U1')"
      ]
     },
     "execution_count": 15,
     "metadata": {},
     "output_type": "execute_result"
    }
   ],
   "source": [
    "words = np.array(list('abcdabcd'))\n",
    "words"
   ]
  },
  {
   "cell_type": "code",
   "execution_count": 19,
   "metadata": {},
   "outputs": [
    {
     "data": {
      "text/plain": [
       "array([[ 0.24555159, -0.3564267 ,  0.24572713,  0.99509059],\n",
       "       [ 0.85066918,  0.91283672, -0.47830481,  0.02822075],\n",
       "       [-2.58632514,  0.01980384,  0.4569624 ,  1.48609098],\n",
       "       [ 0.07479939,  1.18169982,  0.33217491, -1.11973773],\n",
       "       [-0.81632882, -0.41036484, -0.02583632,  0.25979325],\n",
       "       [-0.85235171, -0.87408594, -0.0951882 , -0.34200572],\n",
       "       [ 1.98133128, -0.77875892, -0.57617586,  0.59959606],\n",
       "       [-1.21250364,  1.0264202 , -1.27061155,  0.60749584]])"
      ]
     },
     "execution_count": 19,
     "metadata": {},
     "output_type": "execute_result"
    }
   ],
   "source": [
    "data = np.random.randn(8,4)\n",
    "data"
   ]
  },
  {
   "cell_type": "markdown",
   "metadata": {},
   "source": [
    "对数组进行判断也也是矢量化的"
   ]
  },
  {
   "cell_type": "code",
   "execution_count": 17,
   "metadata": {},
   "outputs": [
    {
     "data": {
      "text/plain": [
       "array([ True, False, False, False,  True, False, False, False])"
      ]
     },
     "execution_count": 17,
     "metadata": {},
     "output_type": "execute_result"
    }
   ],
   "source": [
    "words == 'a'"
   ]
  },
  {
   "cell_type": "code",
   "execution_count": 20,
   "metadata": {},
   "outputs": [
    {
     "data": {
      "text/plain": [
       "array([[ 0.24555159, -0.3564267 ,  0.24572713,  0.99509059],\n",
       "       [-0.81632882, -0.41036484, -0.02583632,  0.25979325]])"
      ]
     },
     "execution_count": 20,
     "metadata": {},
     "output_type": "execute_result"
    }
   ],
   "source": [
    "data[words == 'a']"
   ]
  },
  {
   "cell_type": "markdown",
   "metadata": {},
   "source": [
    "注意：布尔数组的长度必须和索引轴的长度一致，此外还可以将布尔索引和切片混合使用"
   ]
  },
  {
   "cell_type": "code",
   "execution_count": 22,
   "metadata": {},
   "outputs": [
    {
     "data": {
      "text/plain": [
       "array([[ 0.24572713,  0.99509059],\n",
       "       [-0.02583632,  0.25979325]])"
      ]
     },
     "execution_count": 22,
     "metadata": {},
     "output_type": "execute_result"
    }
   ],
   "source": [
    "data[words == 'a', 2:]"
   ]
  },
  {
   "cell_type": "code",
   "execution_count": 23,
   "metadata": {},
   "outputs": [
    {
     "data": {
      "text/plain": [
       "array([[ 0.85066918,  0.91283672, -0.47830481,  0.02822075],\n",
       "       [-2.58632514,  0.01980384,  0.4569624 ,  1.48609098],\n",
       "       [ 0.07479939,  1.18169982,  0.33217491, -1.11973773],\n",
       "       [-0.85235171, -0.87408594, -0.0951882 , -0.34200572],\n",
       "       [ 1.98133128, -0.77875892, -0.57617586,  0.59959606],\n",
       "       [-1.21250364,  1.0264202 , -1.27061155,  0.60749584]])"
      ]
     },
     "execution_count": 23,
     "metadata": {},
     "output_type": "execute_result"
    }
   ],
   "source": [
    "data[words != 'a']"
   ]
  },
  {
   "cell_type": "markdown",
   "metadata": {},
   "source": [
    "也可以直接根据数组的值进行条件筛选"
   ]
  },
  {
   "cell_type": "code",
   "execution_count": 24,
   "metadata": {},
   "outputs": [
    {
     "data": {
      "text/plain": [
       "array([0.24555159, 0.24572713, 0.99509059, 0.85066918, 0.91283672,\n",
       "       0.02822075, 0.01980384, 0.4569624 , 1.48609098, 0.07479939,\n",
       "       1.18169982, 0.33217491, 0.25979325, 1.98133128, 0.59959606,\n",
       "       1.0264202 , 0.60749584])"
      ]
     },
     "execution_count": 24,
     "metadata": {},
     "output_type": "execute_result"
    }
   ],
   "source": [
    "data[data > 0]"
   ]
  },
  {
   "cell_type": "code",
   "execution_count": 26,
   "metadata": {},
   "outputs": [
    {
     "data": {
      "text/plain": [
       "array([0.24555159, 0.24572713, 0.99509059, 0.85066918, 0.91283672,\n",
       "       0.02822075, 0.01980384, 0.4569624 , 0.07479939, 0.33217491,\n",
       "       0.25979325, 0.59959606, 0.60749584])"
      ]
     },
     "execution_count": 26,
     "metadata": {},
     "output_type": "execute_result"
    }
   ],
   "source": [
    "data[(data > 0) & (data < 1)] # 注意这里的逻辑判断和一般的 python 语法不太一样"
   ]
  },
  {
   "cell_type": "code",
   "execution_count": 27,
   "metadata": {},
   "outputs": [
    {
     "data": {
      "text/plain": [
       "array([[ 3.        , -0.3564267 ,  3.        ,  3.        ],\n",
       "       [ 3.        ,  3.        , -0.47830481,  3.        ],\n",
       "       [-2.58632514,  3.        ,  3.        ,  1.48609098],\n",
       "       [ 3.        ,  1.18169982,  3.        , -1.11973773],\n",
       "       [-0.81632882, -0.41036484, -0.02583632,  3.        ],\n",
       "       [-0.85235171, -0.87408594, -0.0951882 , -0.34200572],\n",
       "       [ 1.98133128, -0.77875892, -0.57617586,  3.        ],\n",
       "       [-1.21250364,  1.0264202 , -1.27061155,  3.        ]])"
      ]
     },
     "execution_count": 27,
     "metadata": {},
     "output_type": "execute_result"
    }
   ],
   "source": [
    "data[(data > 0) & (data < 1)] = 3\n",
    "data"
   ]
  },
  {
   "cell_type": "markdown",
   "metadata": {},
   "source": [
    "## 花式索引 Fency index\n",
    "主要指使用整数数组进行索引，python 原生是没有的"
   ]
  },
  {
   "cell_type": "code",
   "execution_count": 31,
   "metadata": {},
   "outputs": [
    {
     "data": {
      "text/plain": [
       "array([[0., 0., 0., 0.],\n",
       "       [1., 1., 1., 1.],\n",
       "       [2., 2., 2., 2.],\n",
       "       [3., 3., 3., 3.],\n",
       "       [4., 4., 4., 4.],\n",
       "       [5., 5., 5., 5.],\n",
       "       [6., 6., 6., 6.],\n",
       "       [7., 7., 7., 7.]])"
      ]
     },
     "execution_count": 31,
     "metadata": {},
     "output_type": "execute_result"
    }
   ],
   "source": [
    "arr = np.empty((8, 4))\n",
    "for i in range(8):\n",
    "    arr[i] = i\n",
    "arr"
   ]
  },
  {
   "cell_type": "markdown",
   "metadata": {},
   "source": [
    "加入我们想以某种特定顺序选取子集，只需传入一个用于指定行数顺序的整数数组或者 ndarray 即可"
   ]
  },
  {
   "cell_type": "code",
   "execution_count": 32,
   "metadata": {},
   "outputs": [
    {
     "data": {
      "text/plain": [
       "array([[3., 3., 3., 3.],\n",
       "       [5., 5., 5., 5.],\n",
       "       [1., 1., 1., 1.],\n",
       "       [6., 6., 6., 6.]])"
      ]
     },
     "execution_count": 32,
     "metadata": {},
     "output_type": "execute_result"
    }
   ],
   "source": [
    "arr[[3, 5, 1, 6]]"
   ]
  },
  {
   "cell_type": "code",
   "execution_count": 33,
   "metadata": {},
   "outputs": [
    {
     "data": {
      "text/plain": [
       "array([[ 0,  1,  2,  3],\n",
       "       [ 4,  5,  6,  7],\n",
       "       [ 8,  9, 10, 11],\n",
       "       [12, 13, 14, 15],\n",
       "       [16, 17, 18, 19],\n",
       "       [20, 21, 22, 23],\n",
       "       [24, 25, 26, 27],\n",
       "       [28, 29, 30, 31]])"
      ]
     },
     "execution_count": 33,
     "metadata": {},
     "output_type": "execute_result"
    }
   ],
   "source": [
    "arr = np.arange(32).reshape((8, 4))\n",
    "arr"
   ]
  },
  {
   "cell_type": "code",
   "execution_count": 34,
   "metadata": {},
   "outputs": [
    {
     "data": {
      "text/plain": [
       "array([ 4, 23, 29, 10])"
      ]
     },
     "execution_count": 34,
     "metadata": {},
     "output_type": "execute_result"
    }
   ],
   "source": [
    "arr[[1, 5, 7, 2], [0, 3, 1, 2]]"
   ]
  },
  {
   "cell_type": "markdown",
   "metadata": {},
   "source": [
    "如果想得到矩阵，可以这样操作"
   ]
  },
  {
   "cell_type": "code",
   "execution_count": 36,
   "metadata": {},
   "outputs": [
    {
     "data": {
      "text/plain": [
       "array([[ 4,  6,  5,  7],\n",
       "       [20, 22, 21, 23],\n",
       "       [28, 30, 29, 31],\n",
       "       [ 8, 10,  9, 11]])"
      ]
     },
     "execution_count": 36,
     "metadata": {},
     "output_type": "execute_result"
    }
   ],
   "source": [
    "arr[[1, 5, 7, 2]][:, [0, 2, 1, 3]] # 把第 1、5、7、2行拿出来，并更换它们第2和第3列的位置"
   ]
  },
  {
   "cell_type": "code",
   "execution_count": 37,
   "metadata": {},
   "outputs": [
    {
     "data": {
      "text/plain": [
       "array([[ 4,  6,  5,  7],\n",
       "       [20, 22, 21, 23],\n",
       "       [28, 30, 29, 31],\n",
       "       [ 8, 10,  9, 11]])"
      ]
     },
     "execution_count": 37,
     "metadata": {},
     "output_type": "execute_result"
    }
   ],
   "source": [
    "arr[np.ix_([1, 5, 7, 2], [0, 2, 1, 3])] # 上面的写法和这里的写法效果一样"
   ]
  },
  {
   "cell_type": "markdown",
   "metadata": {},
   "source": [
    "注意：花式索引和数组切片不一样，花式索引是将数据复制到新数组中，而切片只是原始数据的一份视图，改变切片数据会改变原始数据，而改变花式索引产生的数组并不会改变原始数据"
   ]
  },
  {
   "cell_type": "code",
   "execution_count": 38,
   "metadata": {},
   "outputs": [
    {
     "data": {
      "text/plain": [
       "array([[ 4,  6,  5,  7],\n",
       "       [20, 22, 21, 23],\n",
       "       [28, 30, 29, 31],\n",
       "       [ 8, 10,  9, 11]])"
      ]
     },
     "execution_count": 38,
     "metadata": {},
     "output_type": "execute_result"
    }
   ],
   "source": [
    "a = arr[np.ix_([1, 5, 7, 2], [0, 2, 1, 3])]\n",
    "a"
   ]
  },
  {
   "cell_type": "code",
   "execution_count": 39,
   "metadata": {},
   "outputs": [],
   "source": [
    "a[0][0] = 10000"
   ]
  },
  {
   "cell_type": "code",
   "execution_count": 40,
   "metadata": {},
   "outputs": [
    {
     "data": {
      "text/plain": [
       "array([[10000,     6,     5,     7],\n",
       "       [   20,    22,    21,    23],\n",
       "       [   28,    30,    29,    31],\n",
       "       [    8,    10,     9,    11]])"
      ]
     },
     "execution_count": 40,
     "metadata": {},
     "output_type": "execute_result"
    }
   ],
   "source": [
    "a"
   ]
  },
  {
   "cell_type": "code",
   "execution_count": 41,
   "metadata": {},
   "outputs": [
    {
     "data": {
      "text/plain": [
       "array([[ 0,  1,  2,  3],\n",
       "       [ 4,  5,  6,  7],\n",
       "       [ 8,  9, 10, 11],\n",
       "       [12, 13, 14, 15],\n",
       "       [16, 17, 18, 19],\n",
       "       [20, 21, 22, 23],\n",
       "       [24, 25, 26, 27],\n",
       "       [28, 29, 30, 31]])"
      ]
     },
     "execution_count": 41,
     "metadata": {},
     "output_type": "execute_result"
    }
   ],
   "source": [
    "arr"
   ]
  },
  {
   "cell_type": "markdown",
   "metadata": {},
   "source": [
    "## 通用函数\n",
    "对数组进行元素级的运算的函数"
   ]
  },
  {
   "cell_type": "code",
   "execution_count": 45,
   "metadata": {},
   "outputs": [
    {
     "data": {
      "text/plain": [
       "array([[ 3.        , -0.3564267 ,  3.        ,  3.        ],\n",
       "       [ 3.        ,  3.        , -0.47830481,  3.        ],\n",
       "       [-2.58632514,  3.        ,  3.        ,  1.48609098],\n",
       "       [ 3.        ,  1.18169982,  3.        , -1.11973773],\n",
       "       [-0.81632882, -0.41036484, -0.02583632,  3.        ],\n",
       "       [-0.85235171, -0.87408594, -0.0951882 , -0.34200572],\n",
       "       [ 1.98133128, -0.77875892, -0.57617586,  3.        ],\n",
       "       [-1.21250364,  1.0264202 , -1.27061155,  3.        ]])"
      ]
     },
     "execution_count": 45,
     "metadata": {},
     "output_type": "execute_result"
    }
   ],
   "source": [
    "data"
   ]
  },
  {
   "cell_type": "code",
   "execution_count": 44,
   "metadata": {},
   "outputs": [
    {
     "data": {
      "text/plain": [
       "array([[20.08553692,  0.70017379, 20.08553692, 20.08553692],\n",
       "       [20.08553692, 20.08553692,  0.61983324, 20.08553692],\n",
       "       [ 0.07529624, 20.08553692, 20.08553692,  4.41978467],\n",
       "       [20.08553692,  3.25991077, 20.08553692,  0.32636538],\n",
       "       [ 0.44205153,  0.66340817,  0.97449459, 20.08553692],\n",
       "       [ 0.42641096,  0.41724323,  0.90920181,  0.71034414],\n",
       "       [ 7.25239154,  0.45897528,  0.56204359, 20.08553692],\n",
       "       [ 0.29745164,  2.79105651,  0.28065993, 20.08553692]])"
      ]
     },
     "execution_count": 44,
     "metadata": {},
     "output_type": "execute_result"
    }
   ],
   "source": [
    "np.exp(data) # 对每个元素进行指数函数的运算即 e的x次方，x是元素"
   ]
  },
  {
   "cell_type": "code",
   "execution_count": 46,
   "metadata": {},
   "outputs": [
    {
     "data": {
      "text/plain": [
       "array([[3.        , 0.3564267 , 3.        , 3.        ],\n",
       "       [3.        , 3.        , 0.47830481, 3.        ],\n",
       "       [2.58632514, 3.        , 3.        , 1.48609098],\n",
       "       [3.        , 1.18169982, 3.        , 1.11973773],\n",
       "       [0.81632882, 0.41036484, 0.02583632, 3.        ],\n",
       "       [0.85235171, 0.87408594, 0.0951882 , 0.34200572],\n",
       "       [1.98133128, 0.77875892, 0.57617586, 3.        ],\n",
       "       [1.21250364, 1.0264202 , 1.27061155, 3.        ]])"
      ]
     },
     "execution_count": 46,
     "metadata": {},
     "output_type": "execute_result"
    }
   ],
   "source": [
    "np.abs(data)"
   ]
  },
  {
   "cell_type": "code",
   "execution_count": 47,
   "metadata": {},
   "outputs": [
    {
     "data": {
      "text/plain": [
       "array([[9.00000000e+00, 1.27039991e-01, 9.00000000e+00, 9.00000000e+00],\n",
       "       [9.00000000e+00, 9.00000000e+00, 2.28775487e-01, 9.00000000e+00],\n",
       "       [6.68907772e+00, 9.00000000e+00, 9.00000000e+00, 2.20846639e+00],\n",
       "       [9.00000000e+00, 1.39641447e+00, 9.00000000e+00, 1.25381258e+00],\n",
       "       [6.66392750e-01, 1.68399298e-01, 6.67515206e-04, 9.00000000e+00],\n",
       "       [7.26503443e-01, 7.64026222e-01, 9.06079375e-03, 1.16967914e-01],\n",
       "       [3.92567365e+00, 6.06465458e-01, 3.31978625e-01, 9.00000000e+00],\n",
       "       [1.47016507e+00, 1.05353843e+00, 1.61445372e+00, 9.00000000e+00]])"
      ]
     },
     "execution_count": 47,
     "metadata": {},
     "output_type": "execute_result"
    }
   ],
   "source": [
    "np.square(data)"
   ]
  },
  {
   "cell_type": "code",
   "execution_count": 48,
   "metadata": {},
   "outputs": [
    {
     "data": {
      "text/plain": [
       "array([[3.        , 0.3564267 , 3.        , 3.        ],\n",
       "       [3.        , 3.        , 0.47830481, 3.        ],\n",
       "       [2.58632514, 3.        , 3.        , 1.48609098],\n",
       "       [3.        , 1.18169982, 3.        , 1.11973773],\n",
       "       [0.81632882, 0.41036484, 0.02583632, 3.        ],\n",
       "       [0.85235171, 0.87408594, 0.0951882 , 0.34200572],\n",
       "       [1.98133128, 0.77875892, 0.57617586, 3.        ],\n",
       "       [1.21250364, 1.0264202 , 1.27061155, 3.        ]])"
      ]
     },
     "execution_count": 48,
     "metadata": {},
     "output_type": "execute_result"
    }
   ],
   "source": [
    "np.sqrt(np.square(data))"
   ]
  },
  {
   "cell_type": "markdown",
   "metadata": {},
   "source": [
    "通用函数汇总： 一元函数\n",
    "\n",
    "- abs, fabs 计算整数和浮点数的绝对值\n",
    "- sqrt 开平方\n",
    "- square 求平方\n",
    "- exp 指数运算，底数为 e\n",
    "- log, log2, log10, log1p 对数运算，最后一个位 log（1+x）\n",
    "- sign 计算各元素的正负号\n",
    "- cell 计算各元素大于等于该值得最小整数\n",
    "- floor\n",
    "- rint 将各个元素四舍五入\n",
    "- modf 将数组的小数和整数部分以两个独立数组形式返回\n",
    "- isnan 判断各个元素是否是 NaN\n",
    "- isfinite, iisinf 判断无穷\n",
    "- cos,cosh,sin,sinh,tan,tanh 普通和双曲型三角函数\n",
    "- arccos,arcsin... 反三角\n",
    "\n",
    "二元函数\n",
    "\n",
    "- add\n",
    "- subtract\n",
    "- multiply\n",
    "- divide, floor_divide 元素除法或者向下整数（舍弃余数）\n",
    "- power 指数函数\n",
    "- mod 取模\n",
    "\n",
    "## 数学统计方法\n",
    "\n",
    "求平均，和，方差等"
   ]
  },
  {
   "cell_type": "code",
   "execution_count": 49,
   "metadata": {},
   "outputs": [
    {
     "data": {
      "text/plain": [
       "1.0275167622993358"
      ]
     },
     "execution_count": 49,
     "metadata": {},
     "output_type": "execute_result"
    }
   ],
   "source": [
    "data.mean()"
   ]
  },
  {
   "cell_type": "code",
   "execution_count": 50,
   "metadata": {},
   "outputs": [
    {
     "data": {
      "text/plain": [
       "1.0275167622993358"
      ]
     },
     "execution_count": 50,
     "metadata": {},
     "output_type": "execute_result"
    }
   ],
   "source": [
    "np.mean(data)"
   ]
  },
  {
   "cell_type": "code",
   "execution_count": 53,
   "metadata": {},
   "outputs": [
    {
     "data": {
      "text/plain": [
       "array([[ 3.        , -0.3564267 ,  3.        ,  3.        ],\n",
       "       [ 3.        ,  3.        , -0.47830481,  3.        ],\n",
       "       [-2.58632514,  3.        ,  3.        ,  1.48609098],\n",
       "       [ 3.        ,  1.18169982,  3.        , -1.11973773],\n",
       "       [-0.81632882, -0.41036484, -0.02583632,  3.        ],\n",
       "       [-0.85235171, -0.87408594, -0.0951882 , -0.34200572],\n",
       "       [ 1.98133128, -0.77875892, -0.57617586,  3.        ],\n",
       "       [-1.21250364,  1.0264202 , -1.27061155,  3.        ]])"
      ]
     },
     "execution_count": 53,
     "metadata": {},
     "output_type": "execute_result"
    }
   ],
   "source": [
    "data"
   ]
  },
  {
   "cell_type": "code",
   "execution_count": 54,
   "metadata": {},
   "outputs": [
    {
     "data": {
      "text/plain": [
       "array([0.68922775, 0.72356045, 0.81923541, 1.87804344])"
      ]
     },
     "execution_count": 54,
     "metadata": {},
     "output_type": "execute_result"
    }
   ],
   "source": [
    "np.mean(data, axis=0) # 计算每列平均值"
   ]
  },
  {
   "cell_type": "code",
   "execution_count": 55,
   "metadata": {},
   "outputs": [
    {
     "data": {
      "text/plain": [
       "array([ 2.16089333,  2.1304238 ,  1.22494146,  1.51549052,  0.43686751,\n",
       "       -0.54090789,  0.90659912,  0.38582625])"
      ]
     },
     "execution_count": 55,
     "metadata": {},
     "output_type": "execute_result"
    }
   ],
   "source": [
    "np.mean(data, axis=1) # 计算每行平均值"
   ]
  },
  {
   "cell_type": "code",
   "execution_count": null,
   "metadata": {},
   "outputs": [],
   "source": []
  }
 ],
 "metadata": {
  "kernelspec": {
   "display_name": "Python 3",
   "language": "python",
   "name": "python3"
  },
  "language_info": {
   "codemirror_mode": {
    "name": "ipython",
    "version": 3
   },
   "file_extension": ".py",
   "mimetype": "text/x-python",
   "name": "python",
   "nbconvert_exporter": "python",
   "pygments_lexer": "ipython3",
   "version": "3.7.3"
  }
 },
 "nbformat": 4,
 "nbformat_minor": 2
}
