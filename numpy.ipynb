{
 "cells": [
  {
   "cell_type": "markdown",
   "metadata": {},
   "source": [
    "# numpy"
   ]
  },
  {
   "cell_type": "code",
   "execution_count": 2,
   "metadata": {},
   "outputs": [
    {
     "data": {
      "text/plain": [
       "tuple"
      ]
     },
     "execution_count": 2,
     "metadata": {},
     "output_type": "execute_result"
    }
   ],
   "source": [
    "zoo_tup = ('dog', 'cat', 'wolf')\n",
    "zoo_list = ['dog', 'cat', 'wolf']\n",
    "    \n",
    "zoo_dict = {\n",
    "    'dog': 1,\n",
    "    'cat': 2,\n",
    "    'wolf': 3\n",
    "}\n",
    "type(zoo_tup)\n"
   ]
  },
  {
   "cell_type": "markdown",
   "metadata": {},
   "source": [
    "- list 和 dict 是可变的，tuple 是不可变的"
   ]
  },
  {
   "cell_type": "code",
   "execution_count": 3,
   "metadata": {},
   "outputs": [
    {
     "ename": "TypeError",
     "evalue": "'tuple' object does not support item assignment",
     "output_type": "error",
     "traceback": [
      "\u001b[1;31m---------------------------------------------------------------------------\u001b[0m",
      "\u001b[1;31mTypeError\u001b[0m                                 Traceback (most recent call last)",
      "\u001b[1;32m<ipython-input-3-bb522b1479b7>\u001b[0m in \u001b[0;36m<module>\u001b[1;34m\u001b[0m\n\u001b[1;32m----> 1\u001b[1;33m \u001b[0mzoo_tup\u001b[0m\u001b[1;33m[\u001b[0m\u001b[1;36m0\u001b[0m\u001b[1;33m]\u001b[0m \u001b[1;33m=\u001b[0m \u001b[1;34m'lion'\u001b[0m\u001b[1;33m\u001b[0m\u001b[1;33m\u001b[0m\u001b[0m\n\u001b[0m",
      "\u001b[1;31mTypeError\u001b[0m: 'tuple' object does not support item assignment"
     ]
    }
   ],
   "source": [
    "zoo_tup[0] = 'lion'"
   ]
  },
  {
   "cell_type": "markdown",
   "metadata": {},
   "source": [
    "- 三种数据结构是异构(元素类型可以不一样)的，可嵌套的"
   ]
  },
  {
   "cell_type": "code",
   "execution_count": null,
   "metadata": {},
   "outputs": [],
   "source": [
    "new_zoo_tup = (zoo_tup, zoo_list)\n",
    "print(new_zoo_tup)\n",
    "print(type(new_zoo_tup[0]))\n",
    "print(type(new_zoo_tup[1]))"
   ]
  },
  {
   "cell_type": "markdown",
   "metadata": {},
   "source": [
    "numpy 是高性能科学计算和数据分析的基础包\n",
    "\n",
    "- ndarray，一个具有矢量算术运算和复杂广播能力的快速且节省空间的多维数组\n",
    "- 用于对整数数组快速运算的标准数学函数\n",
    "- 用于读写磁盘数据的工具以及操作内存映射文件的工具\n",
    "- 线性代数，随机数生成以及傅里叶变换\n",
    "- 用于集成 C,C++,Fortran 等语言编写的代码\n",
    "\n",
    "### ndarray\n",
    "一种多维数组，其是一个快速且灵活的大数据容器，且是一个同构数据容器，即其中所有元素必须是相同类型，对该数组可以直接运算"
   ]
  },
  {
   "cell_type": "markdown",
   "metadata": {},
   "source": [
    "### 创建 ndarray"
   ]
  },
  {
   "cell_type": "code",
   "execution_count": 4,
   "metadata": {},
   "outputs": [
    {
     "data": {
      "text/plain": [
       "array([6, 5, 7, 1, 3])"
      ]
     },
     "execution_count": 4,
     "metadata": {},
     "output_type": "execute_result"
    }
   ],
   "source": [
    "import numpy as np\n",
    "data1 = [6, 5, 7, 1, 3]\n",
    "arr1 = np.array(data1)\n",
    "arr1"
   ]
  },
  {
   "cell_type": "code",
   "execution_count": 5,
   "metadata": {},
   "outputs": [
    {
     "data": {
      "text/plain": [
       "array([[1, 2, 3],\n",
       "       [3, 2, 1]])"
      ]
     },
     "execution_count": 5,
     "metadata": {},
     "output_type": "execute_result"
    }
   ],
   "source": [
    "data2 = [[1,2,3], [3,2,1]]\n",
    "arr2 = np.array(data2)\n",
    "arr2"
   ]
  },
  {
   "cell_type": "markdown",
   "metadata": {},
   "source": [
    "array 创建时是对原始对象的一分 copy 创建的，而 asarray 不是，如果修改 asarray 里的值，也会修改原数据"
   ]
  },
  {
   "cell_type": "code",
   "execution_count": 6,
   "metadata": {},
   "outputs": [
    {
     "name": "stdout",
     "output_type": "stream",
     "text": [
      "[[100.   0.   0.]\n",
      " [  0.   0.   0.]]\n",
      "[[100.   0.   0.]\n",
      " [  0.   0.   0.]]\n"
     ]
    }
   ],
   "source": [
    "arr0 = np.zeros((2, 3))\n",
    "arr2 = np.asarray(arr0)\n",
    "arr2[0][0] = 100\n",
    "print(arr0)\n",
    "print(arr2)\n"
   ]
  },
  {
   "cell_type": "markdown",
   "metadata": {},
   "source": [
    "ones() 创建全是 1 的数组"
   ]
  },
  {
   "cell_type": "code",
   "execution_count": 7,
   "metadata": {},
   "outputs": [
    {
     "data": {
      "text/plain": [
       "array([[0., 0., 0., 0.],\n",
       "       [0., 0., 0., 0.],\n",
       "       [0., 0., 0., 0.]])"
      ]
     },
     "execution_count": 7,
     "metadata": {},
     "output_type": "execute_result"
    }
   ],
   "source": [
    "# empty函数用来创建一个没有任何值的数组，根据上一次创建的内存的值\n",
    "np.empty((3, 4))"
   ]
  },
  {
   "cell_type": "code",
   "execution_count": 8,
   "metadata": {},
   "outputs": [
    {
     "data": {
      "text/plain": [
       "array([[1., 0., 0., 0.],\n",
       "       [0., 1., 0., 0.],\n",
       "       [0., 0., 1., 0.],\n",
       "       [0., 0., 0., 1.]])"
      ]
     },
     "execution_count": 8,
     "metadata": {},
     "output_type": "execute_result"
    }
   ],
   "source": [
    "np.eye(4) # 对角矩阵"
   ]
  },
  {
   "cell_type": "markdown",
   "metadata": {},
   "source": [
    "### 数组切片"
   ]
  },
  {
   "cell_type": "markdown",
   "metadata": {},
   "source": [
    "数组索引有 `[][]`的方式访问，也有 `[,]` 的方式访问"
   ]
  },
  {
   "cell_type": "code",
   "execution_count": 9,
   "metadata": {},
   "outputs": [
    {
     "data": {
      "text/plain": [
       "array([[2, 1, 4],\n",
       "       [4, 7, 5]])"
      ]
     },
     "execution_count": 9,
     "metadata": {},
     "output_type": "execute_result"
    }
   ],
   "source": [
    "arr3 = np.array([[2,1,4],[4,7,5]])\n",
    "arr3"
   ]
  },
  {
   "cell_type": "code",
   "execution_count": 10,
   "metadata": {},
   "outputs": [
    {
     "data": {
      "text/plain": [
       "array([[2, 1, 4],\n",
       "       [4, 7, 5]])"
      ]
     },
     "execution_count": 10,
     "metadata": {},
     "output_type": "execute_result"
    }
   ],
   "source": [
    "split1 = arr3[:2][:2]\n",
    "split1"
   ]
  },
  {
   "cell_type": "code",
   "execution_count": 11,
   "metadata": {},
   "outputs": [
    {
     "data": {
      "text/plain": [
       "array([[99,  1,  4],\n",
       "       [ 4,  7,  5]])"
      ]
     },
     "execution_count": 11,
     "metadata": {},
     "output_type": "execute_result"
    }
   ],
   "source": [
    "split1[0, 0] = 99\n",
    "split1"
   ]
  },
  {
   "cell_type": "markdown",
   "metadata": {},
   "source": [
    "切片只是原始数组的一个视图，对其进行赋值会直接影响到原始数据的值"
   ]
  },
  {
   "cell_type": "code",
   "execution_count": 12,
   "metadata": {},
   "outputs": [
    {
     "data": {
      "text/plain": [
       "array([[99,  1,  4],\n",
       "       [ 4,  7,  5]])"
      ]
     },
     "execution_count": 12,
     "metadata": {},
     "output_type": "execute_result"
    }
   ],
   "source": [
    "arr3"
   ]
  },
  {
   "cell_type": "markdown",
   "metadata": {},
   "source": [
    "#### 布尔型索引"
   ]
  },
  {
   "cell_type": "code",
   "execution_count": 13,
   "metadata": {},
   "outputs": [
    {
     "data": {
      "text/plain": [
       "array(['a', 'b', 'c', 'd', 'a', 'b', 'c', 'd'], dtype='<U1')"
      ]
     },
     "execution_count": 13,
     "metadata": {},
     "output_type": "execute_result"
    }
   ],
   "source": [
    "words = np.array(list('abcdabcd'))\n",
    "words"
   ]
  },
  {
   "cell_type": "code",
   "execution_count": 14,
   "metadata": {},
   "outputs": [
    {
     "data": {
      "text/plain": [
       "array([[-0.15607011,  1.20020277,  0.66407412, -1.0434368 ],\n",
       "       [ 0.74115718,  0.23863826,  0.41354893, -0.8840675 ],\n",
       "       [ 1.67726372,  0.21187931,  0.57718186,  0.48446065],\n",
       "       [-0.15002224,  1.30452207, -0.05122672, -2.86812723],\n",
       "       [-0.20636819,  0.4386966 , -0.61081116, -0.04423188],\n",
       "       [-0.95903048,  1.46060724, -2.06937053,  0.80675891],\n",
       "       [ 0.98512045, -0.60771819, -1.33324379,  0.57753255],\n",
       "       [-0.51045171,  1.3668474 , -1.24298965,  3.19088125]])"
      ]
     },
     "execution_count": 14,
     "metadata": {},
     "output_type": "execute_result"
    }
   ],
   "source": [
    "data = np.random.randn(8,4)\n",
    "data"
   ]
  },
  {
   "cell_type": "markdown",
   "metadata": {},
   "source": [
    "对数组进行判断也也是矢量化的"
   ]
  },
  {
   "cell_type": "code",
   "execution_count": 15,
   "metadata": {},
   "outputs": [
    {
     "data": {
      "text/plain": [
       "array([ True, False, False, False,  True, False, False, False])"
      ]
     },
     "execution_count": 15,
     "metadata": {},
     "output_type": "execute_result"
    }
   ],
   "source": [
    "words == 'a'"
   ]
  },
  {
   "cell_type": "code",
   "execution_count": 16,
   "metadata": {},
   "outputs": [
    {
     "data": {
      "text/plain": [
       "array([[-0.15607011,  1.20020277,  0.66407412, -1.0434368 ],\n",
       "       [-0.20636819,  0.4386966 , -0.61081116, -0.04423188]])"
      ]
     },
     "execution_count": 16,
     "metadata": {},
     "output_type": "execute_result"
    }
   ],
   "source": [
    "data[words == 'a']"
   ]
  },
  {
   "cell_type": "markdown",
   "metadata": {},
   "source": [
    "注意：布尔数组的长度必须和索引轴的长度一致，此外还可以将布尔索引和切片混合使用"
   ]
  },
  {
   "cell_type": "code",
   "execution_count": 17,
   "metadata": {},
   "outputs": [
    {
     "data": {
      "text/plain": [
       "array([[ 0.66407412, -1.0434368 ],\n",
       "       [-0.61081116, -0.04423188]])"
      ]
     },
     "execution_count": 17,
     "metadata": {},
     "output_type": "execute_result"
    }
   ],
   "source": [
    "data[words == 'a', 2:]"
   ]
  },
  {
   "cell_type": "code",
   "execution_count": 18,
   "metadata": {},
   "outputs": [
    {
     "data": {
      "text/plain": [
       "array([[ 0.74115718,  0.23863826,  0.41354893, -0.8840675 ],\n",
       "       [ 1.67726372,  0.21187931,  0.57718186,  0.48446065],\n",
       "       [-0.15002224,  1.30452207, -0.05122672, -2.86812723],\n",
       "       [-0.95903048,  1.46060724, -2.06937053,  0.80675891],\n",
       "       [ 0.98512045, -0.60771819, -1.33324379,  0.57753255],\n",
       "       [-0.51045171,  1.3668474 , -1.24298965,  3.19088125]])"
      ]
     },
     "execution_count": 18,
     "metadata": {},
     "output_type": "execute_result"
    }
   ],
   "source": [
    "data[words != 'a']"
   ]
  },
  {
   "cell_type": "markdown",
   "metadata": {},
   "source": [
    "也可以直接根据数组的值进行条件筛选"
   ]
  },
  {
   "cell_type": "code",
   "execution_count": 19,
   "metadata": {},
   "outputs": [
    {
     "data": {
      "text/plain": [
       "array([1.20020277, 0.66407412, 0.74115718, 0.23863826, 0.41354893,\n",
       "       1.67726372, 0.21187931, 0.57718186, 0.48446065, 1.30452207,\n",
       "       0.4386966 , 1.46060724, 0.80675891, 0.98512045, 0.57753255,\n",
       "       1.3668474 , 3.19088125])"
      ]
     },
     "execution_count": 19,
     "metadata": {},
     "output_type": "execute_result"
    }
   ],
   "source": [
    "data[data > 0]"
   ]
  },
  {
   "cell_type": "code",
   "execution_count": 20,
   "metadata": {},
   "outputs": [
    {
     "data": {
      "text/plain": [
       "array([0.66407412, 0.74115718, 0.23863826, 0.41354893, 0.21187931,\n",
       "       0.57718186, 0.48446065, 0.4386966 , 0.80675891, 0.98512045,\n",
       "       0.57753255])"
      ]
     },
     "execution_count": 20,
     "metadata": {},
     "output_type": "execute_result"
    }
   ],
   "source": [
    "data[(data > 0) & (data < 1)] # 注意这里的逻辑判断和一般的 python 语法不太一样"
   ]
  },
  {
   "cell_type": "code",
   "execution_count": 21,
   "metadata": {},
   "outputs": [
    {
     "data": {
      "text/plain": [
       "array([[-0.15607011,  1.20020277,  3.        , -1.0434368 ],\n",
       "       [ 3.        ,  3.        ,  3.        , -0.8840675 ],\n",
       "       [ 1.67726372,  3.        ,  3.        ,  3.        ],\n",
       "       [-0.15002224,  1.30452207, -0.05122672, -2.86812723],\n",
       "       [-0.20636819,  3.        , -0.61081116, -0.04423188],\n",
       "       [-0.95903048,  1.46060724, -2.06937053,  3.        ],\n",
       "       [ 3.        , -0.60771819, -1.33324379,  3.        ],\n",
       "       [-0.51045171,  1.3668474 , -1.24298965,  3.19088125]])"
      ]
     },
     "execution_count": 21,
     "metadata": {},
     "output_type": "execute_result"
    }
   ],
   "source": [
    "data[(data > 0) & (data < 1)] = 3\n",
    "data"
   ]
  },
  {
   "cell_type": "markdown",
   "metadata": {},
   "source": [
    "## 花式索引 Fency index\n",
    "主要指使用整数数组进行索引，python 原生是没有的"
   ]
  },
  {
   "cell_type": "code",
   "execution_count": 22,
   "metadata": {},
   "outputs": [
    {
     "data": {
      "text/plain": [
       "array([[0., 0., 0., 0.],\n",
       "       [1., 1., 1., 1.],\n",
       "       [2., 2., 2., 2.],\n",
       "       [3., 3., 3., 3.],\n",
       "       [4., 4., 4., 4.],\n",
       "       [5., 5., 5., 5.],\n",
       "       [6., 6., 6., 6.],\n",
       "       [7., 7., 7., 7.]])"
      ]
     },
     "execution_count": 22,
     "metadata": {},
     "output_type": "execute_result"
    }
   ],
   "source": [
    "arr = np.empty((8, 4))\n",
    "for i in range(8):\n",
    "    arr[i] = i\n",
    "arr"
   ]
  },
  {
   "cell_type": "markdown",
   "metadata": {},
   "source": [
    "加入我们想以某种特定顺序选取子集，只需传入一个用于指定行数顺序的整数数组或者 ndarray 即可"
   ]
  },
  {
   "cell_type": "code",
   "execution_count": 23,
   "metadata": {},
   "outputs": [
    {
     "data": {
      "text/plain": [
       "array([[3., 3., 3., 3.],\n",
       "       [5., 5., 5., 5.],\n",
       "       [1., 1., 1., 1.],\n",
       "       [6., 6., 6., 6.]])"
      ]
     },
     "execution_count": 23,
     "metadata": {},
     "output_type": "execute_result"
    }
   ],
   "source": [
    "arr[[3, 5, 1, 6]]"
   ]
  },
  {
   "cell_type": "code",
   "execution_count": 24,
   "metadata": {},
   "outputs": [
    {
     "data": {
      "text/plain": [
       "array([[ 0,  1,  2,  3],\n",
       "       [ 4,  5,  6,  7],\n",
       "       [ 8,  9, 10, 11],\n",
       "       [12, 13, 14, 15],\n",
       "       [16, 17, 18, 19],\n",
       "       [20, 21, 22, 23],\n",
       "       [24, 25, 26, 27],\n",
       "       [28, 29, 30, 31]])"
      ]
     },
     "execution_count": 24,
     "metadata": {},
     "output_type": "execute_result"
    }
   ],
   "source": [
    "arr = np.arange(32).reshape((8, 4))\n",
    "arr"
   ]
  },
  {
   "cell_type": "code",
   "execution_count": 25,
   "metadata": {},
   "outputs": [
    {
     "data": {
      "text/plain": [
       "array([ 4, 23, 29, 10])"
      ]
     },
     "execution_count": 25,
     "metadata": {},
     "output_type": "execute_result"
    }
   ],
   "source": [
    "arr[[1, 5, 7, 2], [0, 3, 1, 2]]"
   ]
  },
  {
   "cell_type": "markdown",
   "metadata": {},
   "source": [
    "如果想得到矩阵，可以这样操作"
   ]
  },
  {
   "cell_type": "code",
   "execution_count": 26,
   "metadata": {},
   "outputs": [
    {
     "data": {
      "text/plain": [
       "array([[ 4,  6,  5,  7],\n",
       "       [20, 22, 21, 23],\n",
       "       [28, 30, 29, 31],\n",
       "       [ 8, 10,  9, 11]])"
      ]
     },
     "execution_count": 26,
     "metadata": {},
     "output_type": "execute_result"
    }
   ],
   "source": [
    "arr[[1, 5, 7, 2]][:, [0, 2, 1, 3]] # 把第 1、5、7、2行拿出来，并更换它们第2和第3列的位置"
   ]
  },
  {
   "cell_type": "code",
   "execution_count": 27,
   "metadata": {},
   "outputs": [
    {
     "data": {
      "text/plain": [
       "array([[ 4,  6,  5,  7],\n",
       "       [20, 22, 21, 23],\n",
       "       [28, 30, 29, 31],\n",
       "       [ 8, 10,  9, 11]])"
      ]
     },
     "execution_count": 27,
     "metadata": {},
     "output_type": "execute_result"
    }
   ],
   "source": [
    "arr[np.ix_([1, 5, 7, 2], [0, 2, 1, 3])] # 上面的写法和这里的写法效果一样"
   ]
  },
  {
   "cell_type": "markdown",
   "metadata": {},
   "source": [
    "注意：花式索引和数组切片不一样，花式索引是将数据复制到新数组中，而切片只是原始数据的一份视图，改变切片数据会改变原始数据，而改变花式索引产生的数组并不会改变原始数据"
   ]
  },
  {
   "cell_type": "code",
   "execution_count": 28,
   "metadata": {},
   "outputs": [
    {
     "data": {
      "text/plain": [
       "array([[ 4,  6,  5,  7],\n",
       "       [20, 22, 21, 23],\n",
       "       [28, 30, 29, 31],\n",
       "       [ 8, 10,  9, 11]])"
      ]
     },
     "execution_count": 28,
     "metadata": {},
     "output_type": "execute_result"
    }
   ],
   "source": [
    "a = arr[np.ix_([1, 5, 7, 2], [0, 2, 1, 3])]\n",
    "a"
   ]
  },
  {
   "cell_type": "code",
   "execution_count": 29,
   "metadata": {},
   "outputs": [],
   "source": [
    "a[0][0] = 10000"
   ]
  },
  {
   "cell_type": "code",
   "execution_count": 30,
   "metadata": {},
   "outputs": [
    {
     "data": {
      "text/plain": [
       "array([[10000,     6,     5,     7],\n",
       "       [   20,    22,    21,    23],\n",
       "       [   28,    30,    29,    31],\n",
       "       [    8,    10,     9,    11]])"
      ]
     },
     "execution_count": 30,
     "metadata": {},
     "output_type": "execute_result"
    }
   ],
   "source": [
    "a"
   ]
  },
  {
   "cell_type": "code",
   "execution_count": 31,
   "metadata": {},
   "outputs": [
    {
     "data": {
      "text/plain": [
       "array([[ 0,  1,  2,  3],\n",
       "       [ 4,  5,  6,  7],\n",
       "       [ 8,  9, 10, 11],\n",
       "       [12, 13, 14, 15],\n",
       "       [16, 17, 18, 19],\n",
       "       [20, 21, 22, 23],\n",
       "       [24, 25, 26, 27],\n",
       "       [28, 29, 30, 31]])"
      ]
     },
     "execution_count": 31,
     "metadata": {},
     "output_type": "execute_result"
    }
   ],
   "source": [
    "arr"
   ]
  },
  {
   "cell_type": "markdown",
   "metadata": {},
   "source": [
    "## 通用函数\n",
    "对数组进行元素级的运算的函数"
   ]
  },
  {
   "cell_type": "code",
   "execution_count": 32,
   "metadata": {},
   "outputs": [
    {
     "data": {
      "text/plain": [
       "array([[-0.15607011,  1.20020277,  3.        , -1.0434368 ],\n",
       "       [ 3.        ,  3.        ,  3.        , -0.8840675 ],\n",
       "       [ 1.67726372,  3.        ,  3.        ,  3.        ],\n",
       "       [-0.15002224,  1.30452207, -0.05122672, -2.86812723],\n",
       "       [-0.20636819,  3.        , -0.61081116, -0.04423188],\n",
       "       [-0.95903048,  1.46060724, -2.06937053,  3.        ],\n",
       "       [ 3.        , -0.60771819, -1.33324379,  3.        ],\n",
       "       [-0.51045171,  1.3668474 , -1.24298965,  3.19088125]])"
      ]
     },
     "execution_count": 32,
     "metadata": {},
     "output_type": "execute_result"
    }
   ],
   "source": [
    "data"
   ]
  },
  {
   "cell_type": "code",
   "execution_count": 33,
   "metadata": {},
   "outputs": [
    {
     "data": {
      "text/plain": [
       "array([[ 0.85549921,  3.32079021, 20.08553692,  0.35224202],\n",
       "       [20.08553692, 20.08553692, 20.08553692,  0.41309921],\n",
       "       [ 5.35089436, 20.08553692, 20.08553692, 20.08553692],\n",
       "       [ 0.86068883,  3.68592704,  0.95006325,  0.05680521],\n",
       "       [ 0.81353349, 20.08553692,  0.5429103 ,  0.95673209],\n",
       "       [ 0.38326429,  4.30857509,  0.12626524, 20.08553692],\n",
       "       [20.08553692,  0.54459211,  0.26362074, 20.08553692],\n",
       "       [ 0.60022439,  3.92296363,  0.28852035, 24.30984102]])"
      ]
     },
     "execution_count": 33,
     "metadata": {},
     "output_type": "execute_result"
    }
   ],
   "source": [
    "np.exp(data) # 对每个元素进行指数函数的运算即 e的x次方，x是元素"
   ]
  },
  {
   "cell_type": "code",
   "execution_count": 34,
   "metadata": {},
   "outputs": [
    {
     "data": {
      "text/plain": [
       "array([[0.15607011, 1.20020277, 3.        , 1.0434368 ],\n",
       "       [3.        , 3.        , 3.        , 0.8840675 ],\n",
       "       [1.67726372, 3.        , 3.        , 3.        ],\n",
       "       [0.15002224, 1.30452207, 0.05122672, 2.86812723],\n",
       "       [0.20636819, 3.        , 0.61081116, 0.04423188],\n",
       "       [0.95903048, 1.46060724, 2.06937053, 3.        ],\n",
       "       [3.        , 0.60771819, 1.33324379, 3.        ],\n",
       "       [0.51045171, 1.3668474 , 1.24298965, 3.19088125]])"
      ]
     },
     "execution_count": 34,
     "metadata": {},
     "output_type": "execute_result"
    }
   ],
   "source": [
    "np.abs(data)"
   ]
  },
  {
   "cell_type": "code",
   "execution_count": 35,
   "metadata": {},
   "outputs": [
    {
     "data": {
      "text/plain": [
       "array([[2.43578806e-02, 1.44048669e+00, 9.00000000e+00, 1.08876035e+00],\n",
       "       [9.00000000e+00, 9.00000000e+00, 9.00000000e+00, 7.81575340e-01],\n",
       "       [2.81321358e+00, 9.00000000e+00, 9.00000000e+00, 9.00000000e+00],\n",
       "       [2.25066723e-02, 1.70177782e+00, 2.62417647e-03, 8.22615379e+00],\n",
       "       [4.25878279e-02, 9.00000000e+00, 3.73090277e-01, 1.95645885e-03],\n",
       "       [9.19739455e-01, 2.13337352e+00, 4.28229440e+00, 9.00000000e+00],\n",
       "       [9.00000000e+00, 3.69321398e-01, 1.77753900e+00, 9.00000000e+00],\n",
       "       [2.60560945e-01, 1.86827181e+00, 1.54502327e+00, 1.01817231e+01]])"
      ]
     },
     "execution_count": 35,
     "metadata": {},
     "output_type": "execute_result"
    }
   ],
   "source": [
    "np.square(data)"
   ]
  },
  {
   "cell_type": "code",
   "execution_count": 36,
   "metadata": {},
   "outputs": [
    {
     "data": {
      "text/plain": [
       "array([[0.15607011, 1.20020277, 3.        , 1.0434368 ],\n",
       "       [3.        , 3.        , 3.        , 0.8840675 ],\n",
       "       [1.67726372, 3.        , 3.        , 3.        ],\n",
       "       [0.15002224, 1.30452207, 0.05122672, 2.86812723],\n",
       "       [0.20636819, 3.        , 0.61081116, 0.04423188],\n",
       "       [0.95903048, 1.46060724, 2.06937053, 3.        ],\n",
       "       [3.        , 0.60771819, 1.33324379, 3.        ],\n",
       "       [0.51045171, 1.3668474 , 1.24298965, 3.19088125]])"
      ]
     },
     "execution_count": 36,
     "metadata": {},
     "output_type": "execute_result"
    }
   ],
   "source": [
    "np.sqrt(np.square(data))"
   ]
  },
  {
   "cell_type": "markdown",
   "metadata": {},
   "source": [
    "通用函数汇总： 一元函数\n",
    "\n",
    "- abs, fabs 计算整数和浮点数的绝对值\n",
    "- sqrt 开平方\n",
    "- square 求平方\n",
    "- exp 指数运算，底数为 e\n",
    "- log, log2, log10, log1p 对数运算，最后一个位 log（1+x）\n",
    "- sign 计算各元素的正负号\n",
    "- cell 计算各元素大于等于该值得最小整数\n",
    "- floor\n",
    "- rint 将各个元素四舍五入\n",
    "- modf 将数组的小数和整数部分以两个独立数组形式返回\n",
    "- isnan 判断各个元素是否是 NaN\n",
    "- isfinite, iisinf 判断无穷\n",
    "- cos,cosh,sin,sinh,tan,tanh 普通和双曲型三角函数\n",
    "- arccos,arcsin... 反三角\n",
    "\n",
    "二元函数\n",
    "\n",
    "- add\n",
    "- subtract\n",
    "- multiply\n",
    "- divide, floor_divide 元素除法或者向下整数（舍弃余数）\n",
    "- power 指数函数\n",
    "- mod 取模\n",
    "\n",
    "## 数学统计方法\n",
    "\n",
    "求平均，和，方差等"
   ]
  },
  {
   "cell_type": "code",
   "execution_count": 37,
   "metadata": {},
   "outputs": [
    {
     "data": {
      "text/plain": [
       "0.9519736964570076"
      ]
     },
     "execution_count": 37,
     "metadata": {},
     "output_type": "execute_result"
    }
   ],
   "source": [
    "data.mean()"
   ]
  },
  {
   "cell_type": "code",
   "execution_count": 38,
   "metadata": {},
   "outputs": [
    {
     "data": {
      "text/plain": [
       "0.9519736964570076"
      ]
     },
     "execution_count": 38,
     "metadata": {},
     "output_type": "execute_result"
    }
   ],
   "source": [
    "np.mean(data)"
   ]
  },
  {
   "cell_type": "code",
   "execution_count": 39,
   "metadata": {},
   "outputs": [
    {
     "data": {
      "text/plain": [
       "array([[-0.15607011,  1.20020277,  3.        , -1.0434368 ],\n",
       "       [ 3.        ,  3.        ,  3.        , -0.8840675 ],\n",
       "       [ 1.67726372,  3.        ,  3.        ,  3.        ],\n",
       "       [-0.15002224,  1.30452207, -0.05122672, -2.86812723],\n",
       "       [-0.20636819,  3.        , -0.61081116, -0.04423188],\n",
       "       [-0.95903048,  1.46060724, -2.06937053,  3.        ],\n",
       "       [ 3.        , -0.60771819, -1.33324379,  3.        ],\n",
       "       [-0.51045171,  1.3668474 , -1.24298965,  3.19088125]])"
      ]
     },
     "execution_count": 39,
     "metadata": {},
     "output_type": "execute_result"
    }
   ],
   "source": [
    "data"
   ]
  },
  {
   "cell_type": "code",
   "execution_count": 40,
   "metadata": {},
   "outputs": [
    {
     "data": {
      "text/plain": [
       "array([0.71191512, 1.71555766, 0.46154477, 0.91887723])"
      ]
     },
     "execution_count": 40,
     "metadata": {},
     "output_type": "execute_result"
    }
   ],
   "source": [
    "np.mean(data, axis=0) # 计算每列平均值"
   ]
  },
  {
   "cell_type": "code",
   "execution_count": 41,
   "metadata": {},
   "outputs": [
    {
     "data": {
      "text/plain": [
       "array([ 0.75017397,  2.02898313,  2.66931593, -0.44121353,  0.53464719,\n",
       "        0.35805156,  1.01475951,  0.70107182])"
      ]
     },
     "execution_count": 41,
     "metadata": {},
     "output_type": "execute_result"
    }
   ],
   "source": [
    "np.mean(data, axis=1) # 计算每行平均值"
   ]
  },
  {
   "cell_type": "code",
   "execution_count": 42,
   "metadata": {},
   "outputs": [
    {
     "data": {
      "text/plain": [
       "array([1, 3, 6], dtype=int32)"
      ]
     },
     "execution_count": 42,
     "metadata": {},
     "output_type": "execute_result"
    }
   ],
   "source": [
    "np.cumsum([1,2,3])"
   ]
  },
  {
   "cell_type": "code",
   "execution_count": 43,
   "metadata": {},
   "outputs": [
    {
     "data": {
      "text/plain": [
       "array([1, 2, 6], dtype=int32)"
      ]
     },
     "execution_count": 43,
     "metadata": {},
     "output_type": "execute_result"
    }
   ],
   "source": [
    "np.cumprod([1,2,3])"
   ]
  },
  {
   "cell_type": "markdown",
   "metadata": {},
   "source": [
    "基本数学统计方法\n",
    "\n",
    "- sum 求和\n",
    "- mean 平均值\n",
    "- std，var 标准差和方差\n",
    "- min，max\n",
    "- argmin，argmax 最小值和最大值的索引\n",
    "- cumsum 累计和，从前到后一个个加起来\n",
    "- cumprod 累计积，从前到后一个个乘起来"
   ]
  },
  {
   "cell_type": "markdown",
   "metadata": {},
   "source": [
    "### 线性代数"
   ]
  },
  {
   "cell_type": "code",
   "execution_count": 44,
   "metadata": {},
   "outputs": [],
   "source": [
    "x = np.array([[1,2,3], [4,5,6]])\n",
    "y = np.array([[6,20], [-1,3],[9,8]])"
   ]
  },
  {
   "cell_type": "code",
   "execution_count": 45,
   "metadata": {},
   "outputs": [
    {
     "data": {
      "text/plain": [
       "array([[1, 2, 3],\n",
       "       [4, 5, 6]])"
      ]
     },
     "execution_count": 45,
     "metadata": {},
     "output_type": "execute_result"
    }
   ],
   "source": [
    "x"
   ]
  },
  {
   "cell_type": "code",
   "execution_count": 46,
   "metadata": {},
   "outputs": [
    {
     "data": {
      "text/plain": [
       "array([[ 6, 20],\n",
       "       [-1,  3],\n",
       "       [ 9,  8]])"
      ]
     },
     "execution_count": 46,
     "metadata": {},
     "output_type": "execute_result"
    }
   ],
   "source": [
    "y"
   ]
  },
  {
   "cell_type": "code",
   "execution_count": 47,
   "metadata": {},
   "outputs": [
    {
     "data": {
      "text/plain": [
       "array([[ 31,  50],\n",
       "       [ 73, 143]])"
      ]
     },
     "execution_count": 47,
     "metadata": {},
     "output_type": "execute_result"
    }
   ],
   "source": [
    "x.dot(y) # 等价于 np.dot(x, y)"
   ]
  },
  {
   "cell_type": "markdown",
   "metadata": {},
   "source": [
    "numpy.linalg 中有一组标准的线性代数运算函数"
   ]
  },
  {
   "cell_type": "code",
   "execution_count": 48,
   "metadata": {},
   "outputs": [
    {
     "data": {
      "text/plain": [
       "array([[ 0.34286719,  0.94509069, -1.59330486, -0.16558256, -1.28482122],\n",
       "       [ 1.17165349,  0.18725789, -1.40200646,  2.00060888,  0.34517841],\n",
       "       [-0.20480191, -0.82593823,  0.25775354, -1.18646722, -1.74601665],\n",
       "       [-1.71736629,  0.00938829,  0.67251057,  0.26558373, -2.33013256],\n",
       "       [-0.1939038 ,  0.49655313, -1.40096685,  0.11796605,  0.23951553]])"
      ]
     },
     "execution_count": 48,
     "metadata": {},
     "output_type": "execute_result"
    }
   ],
   "source": [
    "X = np.random.randn(5, 5)\n",
    "X"
   ]
  },
  {
   "cell_type": "code",
   "execution_count": 49,
   "metadata": {},
   "outputs": [
    {
     "data": {
      "text/plain": [
       "array([[ 0.4136395 ,  0.14787852,  0.04459261, -0.31800136, -0.76286305],\n",
       "       [ 0.75854742, -0.37782788, -0.79037569,  0.05602295, -0.60310225],\n",
       "       [ 0.15088214, -0.14214266, -0.32446217,  0.05927496, -0.77438274],\n",
       "       [-0.15980906,  0.36790638, -0.15410816,  0.24826719, -0.09560696],\n",
       "       [-0.27647437, -0.10960374, -0.14725985, -0.1491548 ,  0.32542395]])"
      ]
     },
     "execution_count": 49,
     "metadata": {},
     "output_type": "execute_result"
    }
   ],
   "source": [
    "inv_X = np.linalg.inv(X) # 逆矩阵\n",
    "inv_X"
   ]
  },
  {
   "cell_type": "code",
   "execution_count": 50,
   "metadata": {},
   "outputs": [
    {
     "data": {
      "text/plain": [
       "array([[ 0.34286719,  1.17165349, -0.20480191, -1.71736629, -0.1939038 ],\n",
       "       [ 0.94509069,  0.18725789, -0.82593823,  0.00938829,  0.49655313],\n",
       "       [-1.59330486, -1.40200646,  0.25775354,  0.67251057, -1.40096685],\n",
       "       [-0.16558256,  2.00060888, -1.18646722,  0.26558373,  0.11796605],\n",
       "       [-1.28482122,  0.34517841, -1.74601665, -2.33013256,  0.23951553]])"
      ]
     },
     "execution_count": 50,
     "metadata": {},
     "output_type": "execute_result"
    }
   ],
   "source": [
    "X.T # 转置矩阵"
   ]
  },
  {
   "cell_type": "markdown",
   "metadata": {},
   "source": [
    "线性代数函数\n",
    "\n",
    "- diag 以一位数组的形式返回方阵的对角线元素，或者将一位数组转化为方阵\n",
    "- dot 矩阵乘法\n",
    "- trace 计算对角线元素的和\n",
    "- det 计算矩阵行列式\n",
    "- elg 计算方阵的本征值和本征向量\n",
    "- inv 计算方阵的逆\n",
    "- pinv 计算矩阵的 Moore-Penrose 伪逆\n",
    "- qr 计算 QR 分解\n",
    "- svd 计算奇异值分解\n",
    "- solve 解线性方程组 Ax= b，其中 A 是一个方阵\n",
    "- lstsq 计算 Ax= b 的最小二乘解\n",
    "\n",
    "随机数生成\n",
    "numpy.random 高效生成多种概率分布的样本值函数，而且性能比原生的好"
   ]
  },
  {
   "cell_type": "code",
   "execution_count": 51,
   "metadata": {},
   "outputs": [
    {
     "data": {
      "text/plain": [
       "array([[ 0.86879507, -0.37489122, -0.00190121, -0.05525285],\n",
       "       [-0.82479739,  0.71955731, -0.11653009,  0.83965204],\n",
       "       [-0.74218963,  0.36677638,  0.81524276,  1.28258536],\n",
       "       [ 0.49629701, -0.40681978,  0.06562846,  0.82430216]])"
      ]
     },
     "execution_count": 51,
     "metadata": {},
     "output_type": "execute_result"
    }
   ],
   "source": [
    "np.random.normal(size=(4, 4))"
   ]
  },
  {
   "cell_type": "code",
   "execution_count": 52,
   "metadata": {},
   "outputs": [],
   "source": [
    "import random\n",
    "N = 1000000"
   ]
  },
  {
   "cell_type": "code",
   "execution_count": 53,
   "metadata": {},
   "outputs": [
    {
     "name": "stdout",
     "output_type": "stream",
     "text": [
      "1.73 s ± 235 ms per loop (mean ± std. dev. of 7 runs, 1 loop each)\n"
     ]
    }
   ],
   "source": [
    "%timeit samples = [random.normalvariate(0, 1) for _ in range(N)]"
   ]
  },
  {
   "cell_type": "code",
   "execution_count": 54,
   "metadata": {},
   "outputs": [
    {
     "name": "stdout",
     "output_type": "stream",
     "text": [
      "51.4 ms ± 1.63 ms per loop (mean ± std. dev. of 7 runs, 10 loops each)\n"
     ]
    }
   ],
   "source": [
    "%timeit np.random.normal(size=N)"
   ]
  },
  {
   "cell_type": "markdown",
   "metadata": {},
   "source": [
    "- seed 确定随机数生成器的种子\n",
    "- permutation 返回一个序列的随机排列\n",
    "- shuffle 对一个序列随机排序\n",
    "- randint 从非定的上下限范围随机选取整数\n",
    "- randn 产生正态分布熟知\n",
    "- binomial 产生二项分布数值\n",
    "- normal 产生高斯分布\n",
    "- beta 产生 beta 分布"
   ]
  }
 ],
 "metadata": {
  "kernelspec": {
   "display_name": "Python 3",
   "language": "python",
   "name": "python3"
  },
  "language_info": {
   "codemirror_mode": {
    "name": "ipython",
    "version": 3
   },
   "file_extension": ".py",
   "mimetype": "text/x-python",
   "name": "python",
   "nbconvert_exporter": "python",
   "pygments_lexer": "ipython3",
   "version": "3.7.3"
  }
 },
 "nbformat": 4,
 "nbformat_minor": 2
}
